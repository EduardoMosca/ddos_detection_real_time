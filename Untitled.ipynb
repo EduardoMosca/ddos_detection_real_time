{
 "cells": [
  {
   "cell_type": "code",
   "execution_count": null,
   "id": "vRoBxqGujg2N",
   "metadata": {
    "id": "vRoBxqGujg2N"
   },
   "outputs": [],
   "source": [
    "#from sklearn.model_selection import train_test_split\n",
    "from sklearn.metrics import classification_report\n",
    "import numpy as np\n",
    "import tensorflow as tf\n",
    "from sklearn import preprocessing\n",
    "import pandas as pd\n",
    "from dask import dataframe as dd\n",
    "from dask_ml import model_selection as md\n",
    "from dask_ml import preprocessing as pr\n",
    "import ipaddress as ip"
   ]
  },
  {
   "cell_type": "code",
   "execution_count": null,
   "id": "0edf8f8f",
   "metadata": {},
   "outputs": [],
   "source": [
    "np.random.seed(12)"
   ]
  },
  {
   "cell_type": "code",
   "execution_count": null,
   "id": "5ef97924",
   "metadata": {
    "id": "5ef97924",
    "outputId": "3c9e9ec4-2f4a-4175-df53-bc411b2c7dcc"
   },
   "outputs": [],
   "source": [
    "# Load csv\n",
    "balanced = dd.read_csv('ddos_attack/ddos_balanced/final_dataset_copia.csv')\n",
    "balanced.tail(50)"
   ]
  },
  {
   "cell_type": "code",
   "execution_count": null,
   "id": "e4339404",
   "metadata": {
    "id": "e4339404",
    "outputId": "b1af9db1-047d-4def-88dd-5406183e02a3"
   },
   "outputs": [],
   "source": [
    "balanced.columns"
   ]
  },
  {
   "cell_type": "code",
   "execution_count": null,
   "id": "ad54bfaf",
   "metadata": {
    "id": "ad54bfaf",
    "outputId": "8a84ab7b-d3ee-4bab-87c8-37217a9f040a"
   },
   "outputs": [],
   "source": [
    "balanced.isna().sum()"
   ]
  },
  {
   "cell_type": "code",
   "execution_count": null,
   "id": "83df57fe",
   "metadata": {
    "id": "83df57fe"
   },
   "outputs": [],
   "source": [
    "balanced = balanced.dropna()"
   ]
  },
  {
   "cell_type": "code",
   "execution_count": null,
   "id": "810a28c4",
   "metadata": {},
   "outputs": [],
   "source": [
    "def splitDate(row):\n",
    "  time = row[\"Timestamp\"]\n",
    "  time_values = time.split(' ')\n",
    "  time_date = time_values[0].split('/')\n",
    "  time_complete = time_values[1].split(':')\n",
    "  # time_half = time_values[2]\n",
    "  time_bind = ''\n",
    "  for date in time_date:\n",
    "    time_bind += date\n",
    "  for complete in time_complete:\n",
    "    time_bind += complete\n",
    "  # if time_half == \"AM\":\n",
    "  #   time_bind += '0'\n",
    "  # else:\n",
    "  #   time_bind += '12'\n",
    "  # print(time_bind)\n",
    "  return int(time_bind)"
   ]
  },
  {
   "cell_type": "code",
   "execution_count": null,
   "id": "f3fd7cc1",
   "metadata": {
    "id": "f3fd7cc1",
    "outputId": "fb4c0ab5-a2ed-4a8e-cb6b-56b951c62828"
   },
   "outputs": [],
   "source": [
    "# Define X and y\n",
    "# \"Timestamp\" removed and \"Flow ID\"\n",
    "columns = [\"Timestamp\", \"Src IP\", \"Dst IP\", \"Src Port\", \"Tot Fwd Pkts\"]\n",
    "# columns = [\"Fwd Seg Size Min\", \"Flow IAT Min\", \"Src Port\", \"Tot Fwd Pkts\",\"Init Bwd Win Byts\"]\n",
    "# for column in columns:\n",
    "#     print(True) if column in balanced.columns else print(column)\n",
    "X, y =  balanced.loc[:, columns], balanced.iloc[:, 84]\n",
    "X[\"Src IP\"] = X.apply(lambda row: int(ip.ip_address(row[\"Src IP\"])), axis=1, meta=(X.all()))\n",
    "X[\"Src IP\"] = X[\"Src IP\"].astype(int)\n",
    "X[\"Dst IP\"] = X.apply(lambda row: int(ip.ip_address(row[\"Dst IP\"])), axis=1, meta=(X.all()))\n",
    "X[\"Dst IP\"] = X[\"Dst IP\"].astype(int)\n",
    "X[\"Timestamp\"] = X.apply(splitDate, axis=1, meta=(X.all()))\n",
    "X[\"Timestamp\"] = X[\"Timestamp\"].astype(int)\n",
    "X.tail()"
   ]
  },
  {
   "cell_type": "code",
   "execution_count": null,
   "id": "f35ab7f9",
   "metadata": {
    "id": "f35ab7f9",
    "outputId": "9e31a5aa-12d7-427b-dbfd-8d309b896fd6"
   },
   "outputs": [],
   "source": [
    "X = X.values\n",
    "X"
   ]
  },
  {
   "cell_type": "code",
   "execution_count": null,
   "id": "1a4d6e12",
   "metadata": {},
   "outputs": [],
   "source": [
    "y.head()"
   ]
  },
  {
   "cell_type": "code",
   "execution_count": null,
   "id": "dc40ccd7",
   "metadata": {
    "id": "dc40ccd7",
    "outputId": "cf064395-8e6b-4106-ddc6-26f3f9d1686d"
   },
   "outputs": [],
   "source": [
    "le = pr.LabelEncoder() # pr.LabelEncoder() #preprocessing.LabelEncoder()``\n",
    "y = le.fit_transform(y)\n",
    "y"
   ]
  },
  {
   "cell_type": "code",
   "execution_count": null,
   "id": "5e6c2f4c",
   "metadata": {
    "id": "5e6c2f4c",
    "outputId": "f20a3ae0-66cf-4304-97d7-aa028e4c273b"
   },
   "outputs": [],
   "source": [
    "# Split train and test\n",
    "X.compute_chunk_sizes()\n",
    "X_train, X_test, y_train, y_test = md.train_test_split(X, y, test_size=0.3, random_state=42)\n",
    "\n",
    "print(X_train.shape)\n",
    "print(X_test.shape)\n",
    "print(y_train.shape)\n",
    "print(y_test.shape)"
   ]
  },
  {
   "cell_type": "code",
   "execution_count": null,
   "id": "43ac8036",
   "metadata": {
    "id": "43ac8036"
   },
   "outputs": [],
   "source": [
    "#mlp_model = MLPClassifier(hidden_layer_sizes=(50, 50), activation=\"relu\",random_state=1)"
   ]
  },
  {
   "cell_type": "code",
   "execution_count": null,
   "id": "d5ac6944",
   "metadata": {
    "id": "d5ac6944"
   },
   "outputs": [],
   "source": [
    "#clf = RandomForestClassifier(random_state=0)\n",
    "#clf = LocalOutlierFactor(n_neighbors=2)"
   ]
  },
  {
   "cell_type": "code",
   "execution_count": null,
   "id": "DErVpL_Ijg2U",
   "metadata": {
    "id": "DErVpL_Ijg2U"
   },
   "outputs": [],
   "source": [
    "#clf.fit(X_train, y_train)"
   ]
  },
  {
   "cell_type": "code",
   "execution_count": null,
   "id": "b51b8aa2",
   "metadata": {},
   "outputs": [],
   "source": [
    "def h_swish(value):\n",
    "  return value * tf.nn.relu6(value+3) * 0.16666667"
   ]
  },
  {
   "cell_type": "code",
   "execution_count": null,
   "id": "11afe1da",
   "metadata": {
    "id": "11afe1da"
   },
   "outputs": [],
   "source": [
    "model = tf.keras.Sequential()\n",
    "# activation=tf.keras.layers.Activation(h_swish, name=\"h_swish\")\n",
    "model.add(tf.keras.layers.Dense(32, activation=\"swish\", input_shape=(5,)))\n",
    "model.add(tf.keras.layers.Dense(64, activation=\"tanh\"))\n",
    "model.add(tf.keras.layers.Dense(32, activation=\"swish\"))\n",
    "model.add(tf.keras.layers.Dense(1, activation=\"sigmoid\"))\n",
    "model.compile(loss='binary_crossentropy', optimizer='adam', metrics=['accuracy'])\n"
   ]
  },
  {
   "cell_type": "code",
   "execution_count": null,
   "id": "bd4394b7",
   "metadata": {},
   "outputs": [],
   "source": [
    "# This builds the model for the first time:\n",
    "model.fit(X_train.compute(), y_train.compute(), batch_size=8, epochs=2)"
   ]
  },
  {
   "cell_type": "code",
   "execution_count": null,
   "id": "f76ee34f",
   "metadata": {
    "id": "f76ee34f",
    "outputId": "fef230f5-62e7-4187-b76e-267945316205"
   },
   "outputs": [],
   "source": [
    "y_predict = model.predict(X_test.compute())"
   ]
  },
  {
   "cell_type": "code",
   "execution_count": null,
   "id": "696d14f1",
   "metadata": {
    "id": "696d14f1"
   },
   "outputs": [],
   "source": [
    "tem_z = 0\n",
    "tem_1 = 0\n",
    "for i in range(len(y_predict)):\n",
    "    if y_predict[i] < 0.5:\n",
    "        y_predict[i] = 0\n",
    "        tem_z += 1\n",
    "    else:\n",
    "        y_predict[i] = 1\n",
    "        tem_1 += 1\n",
    "print(tem_z, tem_1)"
   ]
  },
  {
   "cell_type": "code",
   "execution_count": null,
   "id": "475562fc",
   "metadata": {
    "id": "475562fc",
    "outputId": "1eea2451-4563-4b44-c408-8cd14f7444b9"
   },
   "outputs": [],
   "source": [
    "print(classification_report(y_test.compute(), y_predict))"
   ]
  },
  {
   "cell_type": "code",
   "execution_count": null,
   "id": "c72b0a85",
   "metadata": {},
   "outputs": [],
   "source": [
    "#model.save('trabalho_22_12.h5')"
   ]
  }
 ],
 "metadata": {
  "colab": {
   "provenance": []
  },
  "kernelspec": {
   "display_name": ".env",
   "language": "python",
   "name": "python3"
  },
  "language_info": {
   "codemirror_mode": {
    "name": "ipython",
    "version": 3
   },
   "file_extension": ".py",
   "mimetype": "text/x-python",
   "name": "python",
   "nbconvert_exporter": "python",
   "pygments_lexer": "ipython3",
   "version": "3.10.8"
  },
  "vscode": {
   "interpreter": {
    "hash": "50bc5fd2c902edc2e6e3332442c5390d162dfa1f4487c645b3097ac887589b55"
   }
  }
 },
 "nbformat": 4,
 "nbformat_minor": 5
}
