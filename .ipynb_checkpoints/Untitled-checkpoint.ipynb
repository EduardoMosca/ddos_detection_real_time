{
 "cells": [
  {
   "cell_type": "code",
   "execution_count": 1,
   "id": "vRoBxqGujg2N",
   "metadata": {
    "id": "vRoBxqGujg2N"
   },
   "outputs": [
    {
     "name": "stderr",
     "output_type": "stream",
     "text": [
      "2022-11-25 11:33:56.336947: I tensorflow/core/platform/cpu_feature_guard.cc:193] This TensorFlow binary is optimized with oneAPI Deep Neural Network Library (oneDNN) to use the following CPU instructions in performance-critical operations:  AVX2 AVX512F AVX512_VNNI FMA\n",
      "To enable them in other operations, rebuild TensorFlow with the appropriate compiler flags.\n",
      "2022-11-25 11:33:56.513887: I tensorflow/core/util/port.cc:104] oneDNN custom operations are on. You may see slightly different numerical results due to floating-point round-off errors from different computation orders. To turn them off, set the environment variable `TF_ENABLE_ONEDNN_OPTS=0`.\n",
      "2022-11-25 11:33:56.518804: W tensorflow/compiler/xla/stream_executor/platform/default/dso_loader.cc:64] Could not load dynamic library 'libcudart.so.11.0'; dlerror: libcudart.so.11.0: cannot open shared object file: No such file or directory\n",
      "2022-11-25 11:33:56.518817: I tensorflow/compiler/xla/stream_executor/cuda/cudart_stub.cc:29] Ignore above cudart dlerror if you do not have a GPU set up on your machine.\n",
      "2022-11-25 11:33:56.950742: W tensorflow/compiler/xla/stream_executor/platform/default/dso_loader.cc:64] Could not load dynamic library 'libnvinfer.so.7'; dlerror: libnvinfer.so.7: cannot open shared object file: No such file or directory\n",
      "2022-11-25 11:33:56.950791: W tensorflow/compiler/xla/stream_executor/platform/default/dso_loader.cc:64] Could not load dynamic library 'libnvinfer_plugin.so.7'; dlerror: libnvinfer_plugin.so.7: cannot open shared object file: No such file or directory\n",
      "2022-11-25 11:33:56.950795: W tensorflow/compiler/tf2tensorrt/utils/py_utils.cc:38] TF-TRT Warning: Cannot dlopen some TensorRT libraries. If you would like to use Nvidia GPU with TensorRT, please make sure the missing libraries mentioned above are installed properly.\n"
     ]
    }
   ],
   "source": [
    "from sklearn.model_selection import train_test_split\n",
    "from sklearn.metrics import classification_report\n",
    "import tensorflow as tf\n",
    "from sklearn import preprocessing\n",
    "from dask import dataframe as dd\n",
    "from dask_ml import model_selection as md\n",
    "from dask_ml import preprocessing as pr\n",
    "import ipaddress as ip"
   ]
  },
  {
   "cell_type": "code",
   "execution_count": 2,
   "id": "5ef97924",
   "metadata": {
    "id": "5ef97924",
    "outputId": "3c9e9ec4-2f4a-4175-df53-bc411b2c7dcc"
   },
   "outputs": [
    {
     "data": {
      "text/html": [
       "<div>\n",
       "<style scoped>\n",
       "    .dataframe tbody tr th:only-of-type {\n",
       "        vertical-align: middle;\n",
       "    }\n",
       "\n",
       "    .dataframe tbody tr th {\n",
       "        vertical-align: top;\n",
       "    }\n",
       "\n",
       "    .dataframe thead th {\n",
       "        text-align: right;\n",
       "    }\n",
       "</style>\n",
       "<table border=\"1\" class=\"dataframe\">\n",
       "  <thead>\n",
       "    <tr style=\"text-align: right;\">\n",
       "      <th></th>\n",
       "      <th>Unnamed: 0</th>\n",
       "      <th>Flow ID</th>\n",
       "      <th>Src IP</th>\n",
       "      <th>Src Port</th>\n",
       "      <th>Dst IP</th>\n",
       "      <th>Dst Port</th>\n",
       "      <th>Protocol</th>\n",
       "      <th>Timestamp</th>\n",
       "      <th>Flow Duration</th>\n",
       "      <th>Tot Fwd Pkts</th>\n",
       "      <th>...</th>\n",
       "      <th>Fwd Seg Size Min</th>\n",
       "      <th>Active Mean</th>\n",
       "      <th>Active Std</th>\n",
       "      <th>Active Max</th>\n",
       "      <th>Active Min</th>\n",
       "      <th>Idle Mean</th>\n",
       "      <th>Idle Std</th>\n",
       "      <th>Idle Max</th>\n",
       "      <th>Idle Min</th>\n",
       "      <th>Label</th>\n",
       "    </tr>\n",
       "  </thead>\n",
       "  <tbody>\n",
       "    <tr>\n",
       "      <th>117132</th>\n",
       "      <td>208541</td>\n",
       "      <td>172.217.10.10-192.168.10.12-443-55382-6</td>\n",
       "      <td>172.217.10.10</td>\n",
       "      <td>443</td>\n",
       "      <td>192.168.10.12</td>\n",
       "      <td>55382</td>\n",
       "      <td>6</td>\n",
       "      <td>03/07/2017 10:02:32 PM</td>\n",
       "      <td>10101</td>\n",
       "      <td>1</td>\n",
       "      <td>...</td>\n",
       "      <td>0</td>\n",
       "      <td>0.0</td>\n",
       "      <td>0.0000</td>\n",
       "      <td>0.0</td>\n",
       "      <td>0.0</td>\n",
       "      <td>0.0</td>\n",
       "      <td>0.000000</td>\n",
       "      <td>0.0</td>\n",
       "      <td>0.0</td>\n",
       "      <td>Benign</td>\n",
       "    </tr>\n",
       "    <tr>\n",
       "      <th>117133</th>\n",
       "      <td>7732297</td>\n",
       "      <td>162.242.237.105-172.31.67.19-57969-3389-6</td>\n",
       "      <td>162.242.237.105</td>\n",
       "      <td>57969</td>\n",
       "      <td>172.31.67.19</td>\n",
       "      <td>3389</td>\n",
       "      <td>6</td>\n",
       "      <td>20/02/2018 11:51:07</td>\n",
       "      <td>2796250</td>\n",
       "      <td>10</td>\n",
       "      <td>...</td>\n",
       "      <td>20</td>\n",
       "      <td>0.0</td>\n",
       "      <td>0.0000</td>\n",
       "      <td>0.0</td>\n",
       "      <td>0.0</td>\n",
       "      <td>0.0</td>\n",
       "      <td>0.000000</td>\n",
       "      <td>0.0</td>\n",
       "      <td>0.0</td>\n",
       "      <td>Benign</td>\n",
       "    </tr>\n",
       "    <tr>\n",
       "      <th>117134</th>\n",
       "      <td>360249</td>\n",
       "      <td>192.168.10.3-192.168.10.8-53-64198-17</td>\n",
       "      <td>192.168.10.8</td>\n",
       "      <td>64198</td>\n",
       "      <td>192.168.10.3</td>\n",
       "      <td>53</td>\n",
       "      <td>17</td>\n",
       "      <td>03/07/2017 10:51:02 PM</td>\n",
       "      <td>122922</td>\n",
       "      <td>1</td>\n",
       "      <td>...</td>\n",
       "      <td>0</td>\n",
       "      <td>0.0</td>\n",
       "      <td>0.0000</td>\n",
       "      <td>0.0</td>\n",
       "      <td>0.0</td>\n",
       "      <td>0.0</td>\n",
       "      <td>0.000000</td>\n",
       "      <td>0.0</td>\n",
       "      <td>0.0</td>\n",
       "      <td>Benign</td>\n",
       "    </tr>\n",
       "    <tr>\n",
       "      <th>117135</th>\n",
       "      <td>5389094</td>\n",
       "      <td>172.31.68.23-74.117.206.68-52611-443-6</td>\n",
       "      <td>172.31.68.23</td>\n",
       "      <td>52611</td>\n",
       "      <td>74.117.206.68</td>\n",
       "      <td>443</td>\n",
       "      <td>6</td>\n",
       "      <td>20/02/2018 03:34:47</td>\n",
       "      <td>118827448</td>\n",
       "      <td>49</td>\n",
       "      <td>...</td>\n",
       "      <td>20</td>\n",
       "      <td>1925202.0</td>\n",
       "      <td>993609.2963</td>\n",
       "      <td>3968618.0</td>\n",
       "      <td>11590.0</td>\n",
       "      <td>9956383.6</td>\n",
       "      <td>17355.771728</td>\n",
       "      <td>10003751.0</td>\n",
       "      <td>9937199.0</td>\n",
       "      <td>Benign</td>\n",
       "    </tr>\n",
       "    <tr>\n",
       "      <th>117136</th>\n",
       "      <td>1998258</td>\n",
       "      <td>169.254.169.254-172.31.64.109-80-52924-6</td>\n",
       "      <td>172.31.64.109</td>\n",
       "      <td>52924</td>\n",
       "      <td>169.254.169.254</td>\n",
       "      <td>80</td>\n",
       "      <td>6</td>\n",
       "      <td>20/02/2018 04:19:09</td>\n",
       "      <td>1127</td>\n",
       "      <td>3</td>\n",
       "      <td>...</td>\n",
       "      <td>20</td>\n",
       "      <td>0.0</td>\n",
       "      <td>0.0000</td>\n",
       "      <td>0.0</td>\n",
       "      <td>0.0</td>\n",
       "      <td>0.0</td>\n",
       "      <td>0.000000</td>\n",
       "      <td>0.0</td>\n",
       "      <td>0.0</td>\n",
       "      <td>Benign</td>\n",
       "    </tr>\n",
       "    <tr>\n",
       "      <th>...</th>\n",
       "      <td>...</td>\n",
       "      <td>...</td>\n",
       "      <td>...</td>\n",
       "      <td>...</td>\n",
       "      <td>...</td>\n",
       "      <td>...</td>\n",
       "      <td>...</td>\n",
       "      <td>...</td>\n",
       "      <td>...</td>\n",
       "      <td>...</td>\n",
       "      <td>...</td>\n",
       "      <td>...</td>\n",
       "      <td>...</td>\n",
       "      <td>...</td>\n",
       "      <td>...</td>\n",
       "      <td>...</td>\n",
       "      <td>...</td>\n",
       "      <td>...</td>\n",
       "      <td>...</td>\n",
       "      <td>...</td>\n",
       "      <td>...</td>\n",
       "    </tr>\n",
       "    <tr>\n",
       "      <th>117227</th>\n",
       "      <td>1725894</td>\n",
       "      <td>172.31.67.50-209.85.203.113-53598-80-6</td>\n",
       "      <td>209.85.203.113</td>\n",
       "      <td>80</td>\n",
       "      <td>172.31.67.50</td>\n",
       "      <td>53598</td>\n",
       "      <td>6</td>\n",
       "      <td>20/02/2018 05:14:52</td>\n",
       "      <td>50</td>\n",
       "      <td>1</td>\n",
       "      <td>...</td>\n",
       "      <td>20</td>\n",
       "      <td>0.0</td>\n",
       "      <td>0.0000</td>\n",
       "      <td>0.0</td>\n",
       "      <td>0.0</td>\n",
       "      <td>0.0</td>\n",
       "      <td>0.000000</td>\n",
       "      <td>0.0</td>\n",
       "      <td>0.0</td>\n",
       "      <td>Benign</td>\n",
       "    </tr>\n",
       "    <tr>\n",
       "      <th>117228</th>\n",
       "      <td>5681778</td>\n",
       "      <td>172.31.69.17-108.174.10.14-54599-443-6</td>\n",
       "      <td>172.31.69.17</td>\n",
       "      <td>54599</td>\n",
       "      <td>108.174.10.14</td>\n",
       "      <td>443</td>\n",
       "      <td>6</td>\n",
       "      <td>20/02/2018 03:08:35</td>\n",
       "      <td>306</td>\n",
       "      <td>3</td>\n",
       "      <td>...</td>\n",
       "      <td>20</td>\n",
       "      <td>0.0</td>\n",
       "      <td>0.0000</td>\n",
       "      <td>0.0</td>\n",
       "      <td>0.0</td>\n",
       "      <td>0.0</td>\n",
       "      <td>0.000000</td>\n",
       "      <td>0.0</td>\n",
       "      <td>0.0</td>\n",
       "      <td>Benign</td>\n",
       "    </tr>\n",
       "    <tr>\n",
       "      <th>117229</th>\n",
       "      <td>6395326</td>\n",
       "      <td>172.31.0.2-172.31.65.49-53-61087-17</td>\n",
       "      <td>172.31.65.49</td>\n",
       "      <td>61087</td>\n",
       "      <td>172.31.0.2</td>\n",
       "      <td>53</td>\n",
       "      <td>17</td>\n",
       "      <td>20/02/2018 01:03:19</td>\n",
       "      <td>362</td>\n",
       "      <td>1</td>\n",
       "      <td>...</td>\n",
       "      <td>8</td>\n",
       "      <td>0.0</td>\n",
       "      <td>0.0000</td>\n",
       "      <td>0.0</td>\n",
       "      <td>0.0</td>\n",
       "      <td>0.0</td>\n",
       "      <td>0.000000</td>\n",
       "      <td>0.0</td>\n",
       "      <td>0.0</td>\n",
       "      <td>Benign</td>\n",
       "    </tr>\n",
       "    <tr>\n",
       "      <th>117230</th>\n",
       "      <td>4926899</td>\n",
       "      <td>172.31.0.2-172.31.67.58-53-61580-17</td>\n",
       "      <td>172.31.67.58</td>\n",
       "      <td>61580</td>\n",
       "      <td>172.31.0.2</td>\n",
       "      <td>53</td>\n",
       "      <td>17</td>\n",
       "      <td>20/02/2018 12:43:11</td>\n",
       "      <td>303</td>\n",
       "      <td>1</td>\n",
       "      <td>...</td>\n",
       "      <td>8</td>\n",
       "      <td>0.0</td>\n",
       "      <td>0.0000</td>\n",
       "      <td>0.0</td>\n",
       "      <td>0.0</td>\n",
       "      <td>0.0</td>\n",
       "      <td>0.000000</td>\n",
       "      <td>0.0</td>\n",
       "      <td>0.0</td>\n",
       "      <td>Benign</td>\n",
       "    </tr>\n",
       "    <tr>\n",
       "      <th>117231</th>\n",
       "      <td>7656685</td>\n",
       "      <td>169.254.169.254-172.31.65.89-80-49393-6</td>\n",
       "      <td>172.31.65.89</td>\n",
       "      <td>49393</td>\n",
       "      <td>169.254.169.254</td>\n",
       "      <td>80</td>\n",
       "      <td>6</td>\n",
       "      <td>20/02/2018 09:55:40</td>\n",
       "      <td>54</td>\n",
       "      <td>2</td>\n",
       "      <td>...</td>\n",
       "      <td>20</td>\n",
       "      <td>0.0</td>\n",
       "      <td>0.0000</td>\n",
       "      <td>0.0</td>\n",
       "      <td>0.0</td>\n",
       "      <td>0.0</td>\n",
       "      <td>0.000000</td>\n",
       "      <td>0.0</td>\n",
       "      <td>0.0</td>\n",
       "      <td>Benign</td>\n",
       "    </tr>\n",
       "  </tbody>\n",
       "</table>\n",
       "<p>100 rows × 85 columns</p>\n",
       "</div>"
      ],
      "text/plain": [
       "        Unnamed: 0                                    Flow ID  \\\n",
       "117132      208541    172.217.10.10-192.168.10.12-443-55382-6   \n",
       "117133     7732297  162.242.237.105-172.31.67.19-57969-3389-6   \n",
       "117134      360249      192.168.10.3-192.168.10.8-53-64198-17   \n",
       "117135     5389094     172.31.68.23-74.117.206.68-52611-443-6   \n",
       "117136     1998258   169.254.169.254-172.31.64.109-80-52924-6   \n",
       "...            ...                                        ...   \n",
       "117227     1725894     172.31.67.50-209.85.203.113-53598-80-6   \n",
       "117228     5681778     172.31.69.17-108.174.10.14-54599-443-6   \n",
       "117229     6395326        172.31.0.2-172.31.65.49-53-61087-17   \n",
       "117230     4926899        172.31.0.2-172.31.67.58-53-61580-17   \n",
       "117231     7656685    169.254.169.254-172.31.65.89-80-49393-6   \n",
       "\n",
       "                 Src IP  Src Port           Dst IP  Dst Port  Protocol  \\\n",
       "117132    172.217.10.10       443    192.168.10.12     55382         6   \n",
       "117133  162.242.237.105     57969     172.31.67.19      3389         6   \n",
       "117134     192.168.10.8     64198     192.168.10.3        53        17   \n",
       "117135     172.31.68.23     52611    74.117.206.68       443         6   \n",
       "117136    172.31.64.109     52924  169.254.169.254        80         6   \n",
       "...                 ...       ...              ...       ...       ...   \n",
       "117227   209.85.203.113        80     172.31.67.50     53598         6   \n",
       "117228     172.31.69.17     54599    108.174.10.14       443         6   \n",
       "117229     172.31.65.49     61087       172.31.0.2        53        17   \n",
       "117230     172.31.67.58     61580       172.31.0.2        53        17   \n",
       "117231     172.31.65.89     49393  169.254.169.254        80         6   \n",
       "\n",
       "                     Timestamp  Flow Duration  Tot Fwd Pkts  ...  \\\n",
       "117132  03/07/2017 10:02:32 PM          10101             1  ...   \n",
       "117133     20/02/2018 11:51:07        2796250            10  ...   \n",
       "117134  03/07/2017 10:51:02 PM         122922             1  ...   \n",
       "117135     20/02/2018 03:34:47      118827448            49  ...   \n",
       "117136     20/02/2018 04:19:09           1127             3  ...   \n",
       "...                        ...            ...           ...  ...   \n",
       "117227     20/02/2018 05:14:52             50             1  ...   \n",
       "117228     20/02/2018 03:08:35            306             3  ...   \n",
       "117229     20/02/2018 01:03:19            362             1  ...   \n",
       "117230     20/02/2018 12:43:11            303             1  ...   \n",
       "117231     20/02/2018 09:55:40             54             2  ...   \n",
       "\n",
       "        Fwd Seg Size Min  Active Mean   Active Std  Active Max  Active Min  \\\n",
       "117132                 0          0.0       0.0000         0.0         0.0   \n",
       "117133                20          0.0       0.0000         0.0         0.0   \n",
       "117134                 0          0.0       0.0000         0.0         0.0   \n",
       "117135                20    1925202.0  993609.2963   3968618.0     11590.0   \n",
       "117136                20          0.0       0.0000         0.0         0.0   \n",
       "...                  ...          ...          ...         ...         ...   \n",
       "117227                20          0.0       0.0000         0.0         0.0   \n",
       "117228                20          0.0       0.0000         0.0         0.0   \n",
       "117229                 8          0.0       0.0000         0.0         0.0   \n",
       "117230                 8          0.0       0.0000         0.0         0.0   \n",
       "117231                20          0.0       0.0000         0.0         0.0   \n",
       "\n",
       "        Idle Mean      Idle Std    Idle Max   Idle Min   Label  \n",
       "117132        0.0      0.000000         0.0        0.0  Benign  \n",
       "117133        0.0      0.000000         0.0        0.0  Benign  \n",
       "117134        0.0      0.000000         0.0        0.0  Benign  \n",
       "117135  9956383.6  17355.771728  10003751.0  9937199.0  Benign  \n",
       "117136        0.0      0.000000         0.0        0.0  Benign  \n",
       "...           ...           ...         ...        ...     ...  \n",
       "117227        0.0      0.000000         0.0        0.0  Benign  \n",
       "117228        0.0      0.000000         0.0        0.0  Benign  \n",
       "117229        0.0      0.000000         0.0        0.0  Benign  \n",
       "117230        0.0      0.000000         0.0        0.0  Benign  \n",
       "117231        0.0      0.000000         0.0        0.0  Benign  \n",
       "\n",
       "[100 rows x 85 columns]"
      ]
     },
     "execution_count": 2,
     "metadata": {},
     "output_type": "execute_result"
    }
   ],
   "source": [
    "# Load csv\n",
    "balanced = dd.read_csv('./ddos_attack/ddos_balanced/final_dataset.csv')\n",
    "balanced.tail(100)"
   ]
  },
  {
   "cell_type": "code",
   "execution_count": 3,
   "id": "e4339404",
   "metadata": {
    "id": "e4339404",
    "outputId": "b1af9db1-047d-4def-88dd-5406183e02a3"
   },
   "outputs": [
    {
     "data": {
      "text/plain": [
       "Index(['Unnamed: 0', 'Flow ID', 'Src IP', 'Src Port', 'Dst IP', 'Dst Port',\n",
       "       'Protocol', 'Timestamp', 'Flow Duration', 'Tot Fwd Pkts',\n",
       "       'Tot Bwd Pkts', 'TotLen Fwd Pkts', 'TotLen Bwd Pkts', 'Fwd Pkt Len Max',\n",
       "       'Fwd Pkt Len Min', 'Fwd Pkt Len Mean', 'Fwd Pkt Len Std',\n",
       "       'Bwd Pkt Len Max', 'Bwd Pkt Len Min', 'Bwd Pkt Len Mean',\n",
       "       'Bwd Pkt Len Std', 'Flow Byts/s', 'Flow Pkts/s', 'Flow IAT Mean',\n",
       "       'Flow IAT Std', 'Flow IAT Max', 'Flow IAT Min', 'Fwd IAT Tot',\n",
       "       'Fwd IAT Mean', 'Fwd IAT Std', 'Fwd IAT Max', 'Fwd IAT Min',\n",
       "       'Bwd IAT Tot', 'Bwd IAT Mean', 'Bwd IAT Std', 'Bwd IAT Max',\n",
       "       'Bwd IAT Min', 'Fwd PSH Flags', 'Bwd PSH Flags', 'Fwd URG Flags',\n",
       "       'Bwd URG Flags', 'Fwd Header Len', 'Bwd Header Len', 'Fwd Pkts/s',\n",
       "       'Bwd Pkts/s', 'Pkt Len Min', 'Pkt Len Max', 'Pkt Len Mean',\n",
       "       'Pkt Len Std', 'Pkt Len Var', 'FIN Flag Cnt', 'SYN Flag Cnt',\n",
       "       'RST Flag Cnt', 'PSH Flag Cnt', 'ACK Flag Cnt', 'URG Flag Cnt',\n",
       "       'CWE Flag Count', 'ECE Flag Cnt', 'Down/Up Ratio', 'Pkt Size Avg',\n",
       "       'Fwd Seg Size Avg', 'Bwd Seg Size Avg', 'Fwd Byts/b Avg',\n",
       "       'Fwd Pkts/b Avg', 'Fwd Blk Rate Avg', 'Bwd Byts/b Avg',\n",
       "       'Bwd Pkts/b Avg', 'Bwd Blk Rate Avg', 'Subflow Fwd Pkts',\n",
       "       'Subflow Fwd Byts', 'Subflow Bwd Pkts', 'Subflow Bwd Byts',\n",
       "       'Init Fwd Win Byts', 'Init Bwd Win Byts', 'Fwd Act Data Pkts',\n",
       "       'Fwd Seg Size Min', 'Active Mean', 'Active Std', 'Active Max',\n",
       "       'Active Min', 'Idle Mean', 'Idle Std', 'Idle Max', 'Idle Min', 'Label'],\n",
       "      dtype='object')"
      ]
     },
     "execution_count": 3,
     "metadata": {},
     "output_type": "execute_result"
    }
   ],
   "source": [
    "balanced.columns"
   ]
  },
  {
   "cell_type": "code",
   "execution_count": 4,
   "id": "ad54bfaf",
   "metadata": {
    "id": "ad54bfaf",
    "outputId": "8a84ab7b-d3ee-4bab-87c8-37217a9f040a"
   },
   "outputs": [
    {
     "data": {
      "text/plain": [
       "Dask Series Structure:\n",
       "npartitions=1\n",
       "ACK Flag Cnt    int64\n",
       "Unnamed: 0        ...\n",
       "dtype: int64\n",
       "Dask Name: dataframe-sum-agg, 4 graph layers"
      ]
     },
     "execution_count": 4,
     "metadata": {},
     "output_type": "execute_result"
    }
   ],
   "source": [
    "balanced.isna().sum()"
   ]
  },
  {
   "cell_type": "code",
   "execution_count": 5,
   "id": "83df57fe",
   "metadata": {
    "id": "83df57fe"
   },
   "outputs": [],
   "source": [
    "balanced = balanced.dropna()"
   ]
  },
  {
   "cell_type": "code",
   "execution_count": 6,
   "id": "810a28c4",
   "metadata": {},
   "outputs": [],
   "source": [
    "def splitDate(row):\n",
    "  time = row[\"Timestamp\"]\n",
    "  time_values = time.split(' ')\n",
    "  time_date = time_values[0].split('/')\n",
    "  time_complete = time_values[1].split(':')\n",
    "  # time_half = time_values[2]\n",
    "  time_bind = ''\n",
    "  for date in time_date:\n",
    "    time_bind += date\n",
    "  for complete in time_complete:\n",
    "    time_bind += complete\n",
    "  # if time_half == \"AM\":\n",
    "  #   time_bind += '0'\n",
    "  # else:\n",
    "  #   time_bind += '12'\n",
    "  # print(time_bind)\n",
    "  return int(time_bind)"
   ]
  },
  {
   "cell_type": "code",
   "execution_count": 7,
   "id": "f3fd7cc1",
   "metadata": {
    "id": "f3fd7cc1",
    "outputId": "fb4c0ab5-a2ed-4a8e-cb6b-56b951c62828"
   },
   "outputs": [
    {
     "data": {
      "text/html": [
       "<div>\n",
       "<style scoped>\n",
       "    .dataframe tbody tr th:only-of-type {\n",
       "        vertical-align: middle;\n",
       "    }\n",
       "\n",
       "    .dataframe tbody tr th {\n",
       "        vertical-align: top;\n",
       "    }\n",
       "\n",
       "    .dataframe thead th {\n",
       "        text-align: right;\n",
       "    }\n",
       "</style>\n",
       "<table border=\"1\" class=\"dataframe\">\n",
       "  <thead>\n",
       "    <tr style=\"text-align: right;\">\n",
       "      <th></th>\n",
       "      <th>Timestamp</th>\n",
       "      <th>Fwd Seg Size Min</th>\n",
       "      <th>Src IP</th>\n",
       "      <th>Dst IP</th>\n",
       "      <th>Flow IAT Min</th>\n",
       "      <th>Src Port</th>\n",
       "      <th>Tot Fwd Pkts</th>\n",
       "      <th>Init Bwd Win Byts</th>\n",
       "    </tr>\n",
       "  </thead>\n",
       "  <tbody>\n",
       "    <tr>\n",
       "      <th>117227</th>\n",
       "      <td>20022018051452</td>\n",
       "      <td>20</td>\n",
       "      <td>3512060785</td>\n",
       "      <td>2887729970</td>\n",
       "      <td>50.0</td>\n",
       "      <td>80</td>\n",
       "      <td>1</td>\n",
       "      <td>255</td>\n",
       "    </tr>\n",
       "    <tr>\n",
       "      <th>117228</th>\n",
       "      <td>20022018030835</td>\n",
       "      <td>20</td>\n",
       "      <td>2887730449</td>\n",
       "      <td>1823345166</td>\n",
       "      <td>145.0</td>\n",
       "      <td>54599</td>\n",
       "      <td>3</td>\n",
       "      <td>-1</td>\n",
       "    </tr>\n",
       "    <tr>\n",
       "      <th>117229</th>\n",
       "      <td>20022018010319</td>\n",
       "      <td>8</td>\n",
       "      <td>2887729457</td>\n",
       "      <td>2887712770</td>\n",
       "      <td>362.0</td>\n",
       "      <td>61087</td>\n",
       "      <td>1</td>\n",
       "      <td>-1</td>\n",
       "    </tr>\n",
       "    <tr>\n",
       "      <th>117230</th>\n",
       "      <td>20022018124311</td>\n",
       "      <td>8</td>\n",
       "      <td>2887729978</td>\n",
       "      <td>2887712770</td>\n",
       "      <td>303.0</td>\n",
       "      <td>61580</td>\n",
       "      <td>1</td>\n",
       "      <td>-1</td>\n",
       "    </tr>\n",
       "    <tr>\n",
       "      <th>117231</th>\n",
       "      <td>20022018095540</td>\n",
       "      <td>20</td>\n",
       "      <td>2887729497</td>\n",
       "      <td>2852039166</td>\n",
       "      <td>54.0</td>\n",
       "      <td>49393</td>\n",
       "      <td>2</td>\n",
       "      <td>-1</td>\n",
       "    </tr>\n",
       "  </tbody>\n",
       "</table>\n",
       "</div>"
      ],
      "text/plain": [
       "             Timestamp  Fwd Seg Size Min      Src IP      Dst IP  \\\n",
       "117227  20022018051452                20  3512060785  2887729970   \n",
       "117228  20022018030835                20  2887730449  1823345166   \n",
       "117229  20022018010319                 8  2887729457  2887712770   \n",
       "117230  20022018124311                 8  2887729978  2887712770   \n",
       "117231  20022018095540                20  2887729497  2852039166   \n",
       "\n",
       "        Flow IAT Min  Src Port  Tot Fwd Pkts  Init Bwd Win Byts  \n",
       "117227          50.0        80             1                255  \n",
       "117228         145.0     54599             3                 -1  \n",
       "117229         362.0     61087             1                 -1  \n",
       "117230         303.0     61580             1                 -1  \n",
       "117231          54.0     49393             2                 -1  "
      ]
     },
     "execution_count": 7,
     "metadata": {},
     "output_type": "execute_result"
    }
   ],
   "source": [
    "# Define X and y\n",
    "# \"Timestamp\" removed and \"Flow ID\"\n",
    "columns = [\"Timestamp\" ,\"Fwd Seg Size Min\", \"Src IP\", \"Dst IP\", \"Flow IAT Min\", \"Src Port\", \"Tot Fwd Pkts\",\"Init Bwd Win Byts\"]\n",
    "# columns = [\"Fwd Seg Size Min\", \"Flow IAT Min\", \"Src Port\", \"Tot Fwd Pkts\",\"Init Bwd Win Byts\"]\n",
    "# for column in columns:\n",
    "#     print(True) if column in balanced.columns else print(column)\n",
    "X, y =  balanced.loc[:, columns], balanced.iloc[:, 84]\n",
    "X[\"Src IP\"] = X.apply(lambda row: int(ip.ip_address(row[\"Src IP\"])), axis=1, meta=(X.all()))\n",
    "X[\"Src IP\"] = X[\"Src IP\"].astype(int)\n",
    "X[\"Dst IP\"] = X.apply(lambda row: int(ip.ip_address(row[\"Dst IP\"])), axis=1, meta=(X.all()))\n",
    "X[\"Dst IP\"] = X[\"Dst IP\"].astype(int)\n",
    "X[\"Timestamp\"] = X.apply(splitDate, axis=1, meta=(X.all()))\n",
    "X[\"Timestamp\"] = X[\"Timestamp\"].astype(int)\n",
    "X.tail()"
   ]
  },
  {
   "cell_type": "code",
   "execution_count": 8,
   "id": "f35ab7f9",
   "metadata": {
    "id": "f35ab7f9",
    "outputId": "9e31a5aa-12d7-427b-dbfd-8d309b896fd6"
   },
   "outputs": [
    {
     "data": {
      "text/html": [
       "<table>\n",
       "    <tr>\n",
       "        <td>\n",
       "            <table style=\"border-collapse: collapse;\">\n",
       "                <thead>\n",
       "                    <tr>\n",
       "                        <td> </td>\n",
       "                        <th> Array </th>\n",
       "                        <th> Chunk </th>\n",
       "                    </tr>\n",
       "                </thead>\n",
       "                <tbody>\n",
       "                    \n",
       "                    <tr>\n",
       "                        <th> Bytes </th>\n",
       "                        <td> unknown </td>\n",
       "                        <td> unknown </td>\n",
       "                    </tr>\n",
       "                    \n",
       "                    <tr>\n",
       "                        <th> Shape </th>\n",
       "                        <td> (nan, 8) </td>\n",
       "                        <td> (nan, 8) </td>\n",
       "                    </tr>\n",
       "                    <tr>\n",
       "                        <th> Dask graph </th>\n",
       "                        <td colspan=\"2\"> 106 chunks in 19 graph layers </td>\n",
       "                    </tr>\n",
       "                    <tr>\n",
       "                        <th> Data type </th>\n",
       "                        <td colspan=\"2\"> float64 numpy.ndarray </td>\n",
       "                    </tr>\n",
       "                </tbody>\n",
       "            </table>\n",
       "        </td>\n",
       "        <td>\n",
       "        \n",
       "        </td>\n",
       "    </tr>\n",
       "</table>"
      ],
      "text/plain": [
       "dask.array<values, shape=(nan, 8), dtype=float64, chunksize=(nan, 8), chunktype=numpy.ndarray>"
      ]
     },
     "execution_count": 8,
     "metadata": {},
     "output_type": "execute_result"
    }
   ],
   "source": [
    "X = X.values\n",
    "X"
   ]
  },
  {
   "cell_type": "code",
   "execution_count": 9,
   "id": "1a4d6e12",
   "metadata": {},
   "outputs": [
    {
     "data": {
      "text/plain": [
       "0    ddos\n",
       "1    ddos\n",
       "2    ddos\n",
       "3    ddos\n",
       "4    ddos\n",
       "Name: Label, dtype: object"
      ]
     },
     "execution_count": 9,
     "metadata": {},
     "output_type": "execute_result"
    }
   ],
   "source": [
    "y.head()"
   ]
  },
  {
   "cell_type": "code",
   "execution_count": 10,
   "id": "dc40ccd7",
   "metadata": {
    "id": "dc40ccd7",
    "outputId": "cf064395-8e6b-4106-ddc6-26f3f9d1686d"
   },
   "outputs": [
    {
     "data": {
      "text/html": [
       "<table>\n",
       "    <tr>\n",
       "        <td>\n",
       "            <table style=\"border-collapse: collapse;\">\n",
       "                <thead>\n",
       "                    <tr>\n",
       "                        <td> </td>\n",
       "                        <th> Array </th>\n",
       "                        <th> Chunk </th>\n",
       "                    </tr>\n",
       "                </thead>\n",
       "                <tbody>\n",
       "                    \n",
       "                    <tr>\n",
       "                        <th> Bytes </th>\n",
       "                        <td> 97.39 MiB </td>\n",
       "                        <td> 1.18 MiB </td>\n",
       "                    </tr>\n",
       "                    \n",
       "                    <tr>\n",
       "                        <th> Shape </th>\n",
       "                        <td> (12764914,) </td>\n",
       "                        <td> (154902,) </td>\n",
       "                    </tr>\n",
       "                    <tr>\n",
       "                        <th> Dask graph </th>\n",
       "                        <td colspan=\"2\"> 106 chunks in 16 graph layers </td>\n",
       "                    </tr>\n",
       "                    <tr>\n",
       "                        <th> Data type </th>\n",
       "                        <td colspan=\"2\"> int64 numpy.ndarray </td>\n",
       "                    </tr>\n",
       "                </tbody>\n",
       "            </table>\n",
       "        </td>\n",
       "        <td>\n",
       "        <svg width=\"170\" height=\"75\" style=\"stroke:rgb(0,0,0);stroke-width:1\" >\n",
       "\n",
       "  <!-- Horizontal lines -->\n",
       "  <line x1=\"0\" y1=\"0\" x2=\"120\" y2=\"0\" style=\"stroke-width:2\" />\n",
       "  <line x1=\"0\" y1=\"25\" x2=\"120\" y2=\"25\" style=\"stroke-width:2\" />\n",
       "\n",
       "  <!-- Vertical lines -->\n",
       "  <line x1=\"0\" y1=\"0\" x2=\"0\" y2=\"25\" style=\"stroke-width:2\" />\n",
       "  <line x1=\"6\" y1=\"0\" x2=\"6\" y2=\"25\" />\n",
       "  <line x1=\"14\" y1=\"0\" x2=\"14\" y2=\"25\" />\n",
       "  <line x1=\"19\" y1=\"0\" x2=\"19\" y2=\"25\" />\n",
       "  <line x1=\"25\" y1=\"0\" x2=\"25\" y2=\"25\" />\n",
       "  <line x1=\"32\" y1=\"0\" x2=\"32\" y2=\"25\" />\n",
       "  <line x1=\"41\" y1=\"0\" x2=\"41\" y2=\"25\" />\n",
       "  <line x1=\"48\" y1=\"0\" x2=\"48\" y2=\"25\" />\n",
       "  <line x1=\"52\" y1=\"0\" x2=\"52\" y2=\"25\" />\n",
       "  <line x1=\"58\" y1=\"0\" x2=\"58\" y2=\"25\" />\n",
       "  <line x1=\"64\" y1=\"0\" x2=\"64\" y2=\"25\" />\n",
       "  <line x1=\"70\" y1=\"0\" x2=\"70\" y2=\"25\" />\n",
       "  <line x1=\"76\" y1=\"0\" x2=\"76\" y2=\"25\" />\n",
       "  <line x1=\"82\" y1=\"0\" x2=\"82\" y2=\"25\" />\n",
       "  <line x1=\"89\" y1=\"0\" x2=\"89\" y2=\"25\" />\n",
       "  <line x1=\"94\" y1=\"0\" x2=\"94\" y2=\"25\" />\n",
       "  <line x1=\"101\" y1=\"0\" x2=\"101\" y2=\"25\" />\n",
       "  <line x1=\"106\" y1=\"0\" x2=\"106\" y2=\"25\" />\n",
       "  <line x1=\"113\" y1=\"0\" x2=\"113\" y2=\"25\" />\n",
       "  <line x1=\"120\" y1=\"0\" x2=\"120\" y2=\"25\" style=\"stroke-width:2\" />\n",
       "\n",
       "  <!-- Colored Rectangle -->\n",
       "  <polygon points=\"0.0,0.0 120.0,0.0 120.0,25.412616514582485 0.0,25.412616514582485\" style=\"fill:#8B4903A0;stroke-width:0\"/>\n",
       "\n",
       "  <!-- Text -->\n",
       "  <text x=\"60.000000\" y=\"45.412617\" font-size=\"1.0rem\" font-weight=\"100\" text-anchor=\"middle\" >12764914</text>\n",
       "  <text x=\"140.000000\" y=\"12.706308\" font-size=\"1.0rem\" font-weight=\"100\" text-anchor=\"middle\" transform=\"rotate(0,140.000000,12.706308)\">1</text>\n",
       "</svg>\n",
       "        </td>\n",
       "    </tr>\n",
       "</table>"
      ],
      "text/plain": [
       "dask.array<sum-aggregate, shape=(12764914,), dtype=int64, chunksize=(154902,), chunktype=numpy.ndarray>"
      ]
     },
     "execution_count": 10,
     "metadata": {},
     "output_type": "execute_result"
    }
   ],
   "source": [
    "le = pr.LabelEncoder() # pr.LabelEncoder() #preprocessing.LabelEncoder()``\n",
    "y = le.fit_transform(y)\n",
    "y"
   ]
  },
  {
   "cell_type": "code",
   "execution_count": null,
   "id": "5e6c2f4c",
   "metadata": {
    "id": "5e6c2f4c",
    "outputId": "f20a3ae0-66cf-4304-97d7-aa028e4c273b"
   },
   "outputs": [],
   "source": [
    "# Split train and test\n",
    "X.compute_chunk_sizes()\n",
    "X_train, X_test, y_train, y_test = train_test_split(X.compute(), y, test_size=0.3, random_state=42)\n",
    "\n",
    "print(X_train.shape)\n",
    "print(X_test.shape)\n",
    "print(y_train.shape)\n",
    "print(y_test.shape)"
   ]
  },
  {
   "cell_type": "code",
   "execution_count": null,
   "id": "43ac8036",
   "metadata": {
    "id": "43ac8036"
   },
   "outputs": [],
   "source": [
    "#mlp_model = MLPClassifier(hidden_layer_sizes=(50, 50), activation=\"relu\",random_state=1)"
   ]
  },
  {
   "cell_type": "code",
   "execution_count": null,
   "id": "d5ac6944",
   "metadata": {
    "id": "d5ac6944"
   },
   "outputs": [],
   "source": [
    "#clf = RandomForestClassifier(random_state=0)\n",
    "#clf = LocalOutlierFactor(n_neighbors=2)"
   ]
  },
  {
   "cell_type": "code",
   "execution_count": null,
   "id": "DErVpL_Ijg2U",
   "metadata": {
    "id": "DErVpL_Ijg2U"
   },
   "outputs": [],
   "source": [
    "#clf.fit(X_train, y_train)"
   ]
  },
  {
   "cell_type": "code",
   "execution_count": null,
   "id": "b51b8aa2",
   "metadata": {},
   "outputs": [],
   "source": [
    "def h_swish(value):\n",
    "  return value * tf.nn.relu6(value+3) * 0.16666667"
   ]
  },
  {
   "cell_type": "code",
   "execution_count": null,
   "id": "11afe1da",
   "metadata": {
    "id": "11afe1da"
   },
   "outputs": [],
   "source": [
    "model = tf.keras.Sequential()\n",
    "# activation=tf.keras.layers.Activation(h_swish, name=\"h_swish\")\n",
    "model.add(tf.keras.layers.Dense(32, activation=\"swish\", input_shape=(8,)))\n",
    "model.add(tf.keras.layers.Dense(64, activation=\"tanh\"))\n",
    "model.add(tf.keras.layers.Dense(32, activation=\"swish\"))\n",
    "model.add(tf.keras.layers.Dense(1, activation=\"sigmoid\"))\n",
    "model.compile(loss='binary_crossentropy', optimizer='adam', metrics=['accuracy'])\n"
   ]
  },
  {
   "cell_type": "code",
   "execution_count": null,
   "id": "3a69aca8",
   "metadata": {
    "id": "3a69aca8",
    "outputId": "25d5e82d-357c-4819-978d-0330e329c608"
   },
   "outputs": [],
   "source": [
    "# This builds the model for the first time:\n",
    "model.fit(X_train, y_train, batch_size=8, epochs=2)"
   ]
  },
  {
   "cell_type": "code",
   "execution_count": null,
   "id": "f76ee34f",
   "metadata": {
    "id": "f76ee34f",
    "outputId": "fef230f5-62e7-4187-b76e-267945316205"
   },
   "outputs": [
    {
     "name": "stdout",
     "output_type": "stream",
     "text": [
      "119673/119673 [==============================] - 58s 480us/step\n"
     ]
    }
   ],
   "source": [
    "y_predict = model.predict(X_test)"
   ]
  },
  {
   "cell_type": "code",
   "execution_count": null,
   "id": "696d14f1",
   "metadata": {
    "id": "696d14f1"
   },
   "outputs": [
    {
     "name": "stdout",
     "output_type": "stream",
     "text": [
      "0 3829521\n"
     ]
    }
   ],
   "source": [
    "tem_z = 0\n",
    "tem_1 = 0\n",
    "for i in range(len(y_predict)):\n",
    "    if y_predict[i] < 0.5:\n",
    "        y_predict[i] = 0\n",
    "        tem_z += 1\n",
    "    else:\n",
    "        y_predict[i] = 1\n",
    "        tem_1 += 1\n",
    "print(tem_z, tem_1)"
   ]
  },
  {
   "cell_type": "code",
   "execution_count": null,
   "id": "475562fc",
   "metadata": {
    "id": "475562fc",
    "outputId": "1eea2451-4563-4b44-c408-8cd14f7444b9"
   },
   "outputs": [
    {
     "name": "stderr",
     "output_type": "stream",
     "text": [
      "/home/eduardo/Desktop/programas/python/ddos/.env/lib/python3.10/site-packages/sklearn/metrics/_classification.py:1334: UndefinedMetricWarning: Precision and F-score are ill-defined and being set to 0.0 in labels with no predicted samples. Use `zero_division` parameter to control this behavior.\n",
      "  _warn_prf(average, modifier, msg_start, len(result))\n",
      "/home/eduardo/Desktop/programas/python/ddos/.env/lib/python3.10/site-packages/sklearn/metrics/_classification.py:1334: UndefinedMetricWarning: Precision and F-score are ill-defined and being set to 0.0 in labels with no predicted samples. Use `zero_division` parameter to control this behavior.\n",
      "  _warn_prf(average, modifier, msg_start, len(result))\n"
     ]
    },
    {
     "name": "stdout",
     "output_type": "stream",
     "text": [
      "              precision    recall  f1-score   support\n",
      "\n",
      "           0       0.00      0.00      0.00   1887780\n",
      "           1       0.51      1.00      0.67   1941741\n",
      "\n",
      "    accuracy                           0.51   3829521\n",
      "   macro avg       0.25      0.50      0.34   3829521\n",
      "weighted avg       0.26      0.51      0.34   3829521\n",
      "\n"
     ]
    },
    {
     "name": "stderr",
     "output_type": "stream",
     "text": [
      "/home/eduardo/Desktop/programas/python/ddos/.env/lib/python3.10/site-packages/sklearn/metrics/_classification.py:1334: UndefinedMetricWarning: Precision and F-score are ill-defined and being set to 0.0 in labels with no predicted samples. Use `zero_division` parameter to control this behavior.\n",
      "  _warn_prf(average, modifier, msg_start, len(result))\n"
     ]
    }
   ],
   "source": [
    "print(classification_report(y_test, y_predict))"
   ]
  },
  {
   "cell_type": "code",
   "execution_count": null,
   "id": "66ffc513",
   "metadata": {
    "id": "66ffc513"
   },
   "outputs": [],
   "source": []
  }
 ],
 "metadata": {
  "colab": {
   "provenance": []
  },
  "kernelspec": {
   "display_name": "Python 3 (ipykernel)",
   "language": "python",
   "name": "python3"
  },
  "language_info": {
   "codemirror_mode": {
    "name": "ipython",
    "version": 3
   },
   "file_extension": ".py",
   "mimetype": "text/x-python",
   "name": "python",
   "nbconvert_exporter": "python",
   "pygments_lexer": "ipython3",
   "version": "3.10.8"
  },
  "vscode": {
   "interpreter": {
    "hash": "50bc5fd2c902edc2e6e3332442c5390d162dfa1f4487c645b3097ac887589b55"
   }
  }
 },
 "nbformat": 4,
 "nbformat_minor": 5
}
